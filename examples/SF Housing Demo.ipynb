{
 "cells": [
  {
   "cell_type": "markdown",
   "id": "ed4ecfc3",
   "metadata": {},
   "source": [
    "# Autoprofiler demo: SF Housing"
   ]
  },
  {
   "cell_type": "code",
   "execution_count": null,
   "id": "ca93f31d-656d-4824-bca6-5d09df6957f0",
   "metadata": {},
   "outputs": [],
   "source": [
    "import pandas as pd"
   ]
  },
  {
   "cell_type": "markdown",
   "id": "15c95ba0-2bd8-4a38-9f31-770f3625cbd6",
   "metadata": {},
   "source": [
    "## What is AutoProfiler?\n",
    "AutoProfiler shows you data _profiles_ for any pandas dataframe in the left side bar of Jupyter. Whenever you load or update a dataframe, autoprofiler will show you information like distributions, common values, missing values etc. \n",
    "\n",
    "__To install and use locally: `pip install -U digautoprofiler`__\n",
    "\n",
    "## This demo\n",
    "This dataset is a sample of Bay Area rents from 2000-2018 gathered from [this site](https://www.katepennington.org/data). Try exploring the dataset and open **Autoprofiler** in the left panel to see profiling charts!"
   ]
  },
  {
   "cell_type": "markdown",
   "id": "1d2d08bf",
   "metadata": {},
   "source": [
    "If this demo is running in jupyterlite, we have to read the dataframe and install dependencies in a slighly different way, if not we can just load it normally:"
   ]
  },
  {
   "cell_type": "code",
   "execution_count": null,
   "id": "5fede952-b5bf-40a4-b080-9239eabd0ee0",
   "metadata": {},
   "outputs": [],
   "source": [
    "import sys\n",
    "\n",
    "if sys.platform == \"emscripten\":\n",
    "    # running in jupyterlite, so we need to manually install dependencies\n",
    "    import piplite\n",
    "    await piplite.install('altair')\n",
    "    await piplite.install('digautoprofiler')\n",
    "\n",
    "    # read the data for jupyter lite\n",
    "    import pyodide\n",
    "    URL = \"https://raw.githubusercontent.com/cmudig/AutoProfiler/main/examples/df_housing_sample.csv\"\n",
    "    df_housing = pd.read_csv(pyodide.http.open_url(URL))\n",
    "else:\n",
    "    df_housing = pd.read_csv(\"./df_housing_sample.csv\")"
   ]
  },
  {
   "cell_type": "markdown",
   "id": "ba9bc295-df10-4e75-b426-e96b60f25466",
   "metadata": {},
   "source": [
    "The profile charts will update whenever the data updates, including changing the type:"
   ]
  },
  {
   "cell_type": "code",
   "execution_count": null,
   "id": "66938dcd-fd82-4bf2-9a7f-85cfd009d8e4",
   "metadata": {},
   "outputs": [],
   "source": [
    "df_housing[\"date\"] = pd.to_datetime(df_housing[\"date\"], format=\"%Y%m%d\")"
   ]
  },
  {
   "cell_type": "markdown",
   "id": "37fbb000-61ca-4dc6-a8bd-08fcbd9c7ffe",
   "metadata": {},
   "source": [
    "Or whenever a new dataframe is created:"
   ]
  },
  {
   "cell_type": "code",
   "execution_count": null,
   "id": "eca5c953-4d29-49f7-8866-c47582780ad5",
   "metadata": {},
   "outputs": [],
   "source": [
    "expensive_rents = df_housing[df_housing[\"price\"] > 5000]"
   ]
  },
  {
   "cell_type": "markdown",
   "id": "1db013fa",
   "metadata": {},
   "source": [
    "Try different pandas commands to...\n",
    "- See how your dataframes profile changes after a command\n",
    "- Compare dataframes\n",
    "- See most common values, distributions, cardinality, null values and more!"
   ]
  },
  {
   "cell_type": "code",
   "execution_count": null,
   "id": "7d9229d4-8407-46de-85e4-4032e16796f0",
   "metadata": {},
   "outputs": [],
   "source": []
  }
 ],
 "metadata": {
  "kernelspec": {
   "display_name": "Python 3.9.10 64-bit",
   "language": "python",
   "name": "python3"
  },
  "language_info": {
   "codemirror_mode": {
    "name": "ipython",
    "version": 3
   },
   "file_extension": ".py",
   "mimetype": "text/x-python",
   "name": "python",
   "nbconvert_exporter": "python",
   "pygments_lexer": "ipython3",
   "version": "3.9.10"
  },
  "vscode": {
   "interpreter": {
    "hash": "aee8b7b246df8f9039afb4144a1f6fd8d2ca17a180786b69acc140d282b71a49"
   }
  }
 },
 "nbformat": 4,
 "nbformat_minor": 5
}
